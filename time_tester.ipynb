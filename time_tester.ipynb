{
 "cells": [
  {
   "cell_type": "code",
   "execution_count": null,
   "id": "2e2b8c80",
   "metadata": {},
   "outputs": [],
   "source": [
    "%%time\n",
    "x = \"255.100.50.0\"\n",
    "\"[.]\".join(x.split(\".\"))"
   ]
  },
  {
   "cell_type": "code",
   "execution_count": null,
   "id": "357f412d",
   "metadata": {},
   "outputs": [],
   "source": [
    "%%timeit\n",
    "def reverse(x: int) -> int:\n",
    "    rev = int(str(abs(x))[::-1])\n",
    "    return (-rev if x < 0 else rev) if rev.bit_length() < 32 else 0\n",
    "\n",
    "x = reverse(153489)\n",
    "\n"
   ]
  },
  {
   "cell_type": "code",
   "execution_count": 19,
   "id": "d4642e3f",
   "metadata": {},
   "outputs": [
    {
     "name": "stdout",
     "output_type": "stream",
     "text": [
      "482 ns ± 6.4 ns per loop (mean ± std. dev. of 7 runs, 1,000,000 loops each)\n"
     ]
    }
   ],
   "source": [
    "%%timeit\n",
    "def searchRange(nums: list[int], target: int) -> list[int]:\n",
    "    res = []\n",
    "    \n",
    "    try:\n",
    "        res.append(nums.index(target))\n",
    "    except Exception as e:\n",
    "        return [-1, -1]\n",
    "    \n",
    "    nums = nums[::-1]\n",
    "    res.append(len(nums) - nums.index(target) - 1)\n",
    "    \n",
    "    return res\n",
    "\n",
    "input_1 = [5,7,7,8,8,10]\n",
    "x = searchRange(input_1, 8)\n"
   ]
  }
 ],
 "metadata": {
  "kernelspec": {
   "display_name": "Python 3",
   "language": "python",
   "name": "python3"
  },
  "language_info": {
   "codemirror_mode": {
    "name": "ipython",
    "version": 3
   },
   "file_extension": ".py",
   "mimetype": "text/x-python",
   "name": "python",
   "nbconvert_exporter": "python",
   "pygments_lexer": "ipython3",
   "version": "3.10.0"
  }
 },
 "nbformat": 4,
 "nbformat_minor": 5
}
